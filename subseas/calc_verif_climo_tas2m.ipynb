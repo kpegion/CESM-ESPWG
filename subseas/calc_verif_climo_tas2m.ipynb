{
 "cells": [
  {
   "cell_type": "markdown",
   "metadata": {},
   "source": [
    "# Calculate the Climatology for the 2m Temperature Verification Data"
   ]
  },
  {
   "cell_type": "markdown",
   "metadata": {},
   "source": [
    "### Verification data has been downloaded from NOAA/ESRL/PSD and put in:\n",
    "/glade/scratch/kpegion/ESPWG/data/verif/\n",
    "\n",
    "### Climatology is calculated following the SubX protocol. It is output to a file:\n",
    "/glade/scratch/kpegion/ESPWG/data/verif/tas2m/daily/CPC-TEMP/climo/climo_CPC-TEMP_tas2m.nc\n",
    "\n",
    "### Function for calculating climatology is located in:\n",
    "clim_utils.py"
   ]
  },
  {
   "cell_type": "code",
   "execution_count": null,
   "metadata": {},
   "outputs": [],
   "source": [
    "import xarray as xr\n",
    "import matplotlib.pyplot as plt\n",
    "import pandas as pd\n",
    "import numpy as np\n",
    "\n",
    "from clim_utils import daily_climo_verif"
   ]
  },
  {
   "cell_type": "code",
   "execution_count": null,
   "metadata": {},
   "outputs": [],
   "source": [
    "import warnings\n",
    "warnings.filterwarnings(\"ignore\")"
   ]
  },
  {
   "cell_type": "code",
   "execution_count": null,
   "metadata": {},
   "outputs": [],
   "source": [
    "base_path='/glade/scratch/kpegion/ESPWG/data/'\n",
    "varname='tas2m'"
   ]
  },
  {
   "cell_type": "code",
   "execution_count": 8,
   "metadata": {},
   "outputs": [],
   "source": [
    "verif_path=base_path+'verif/'\n",
    "verif_dataset='CPC-TEMP'\n",
    "\n",
    "climo_path=verif_path+varname+'/daily/'+verif_dataset+'/climo/'"
   ]
  },
  {
   "cell_type": "markdown",
   "metadata": {},
   "source": [
    "### Read In Verif Data for 1999-2015"
   ]
  },
  {
   "cell_type": "code",
   "execution_count": 9,
   "metadata": {},
   "outputs": [
    {
     "data": {
      "text/html": [
       "<pre>&lt;xarray.Dataset&gt;\n",
       "Dimensions:  (lat: 360, lon: 720, time: 6209)\n",
       "Coordinates:\n",
       "  * time     (time) datetime64[ns] 1999-01-01 1999-01-02 ... 2015-12-31\n",
       "  * lon      (lon) float32 0.25 0.75 1.25 1.75 ... 358.25 358.75 359.25 359.75\n",
       "  * lat      (lat) float32 89.75 89.25 88.75 88.25 ... -88.75 -89.25 -89.75\n",
       "Data variables:\n",
       "    tas2m    (time, lat, lon) float32 dask.array&lt;chunksize=(365, 360, 720), meta=np.ndarray&gt;</pre>"
      ],
      "text/plain": [
       "<xarray.Dataset>\n",
       "Dimensions:  (lat: 360, lon: 720, time: 6209)\n",
       "Coordinates:\n",
       "  * time     (time) datetime64[ns] 1999-01-01 1999-01-02 ... 2015-12-31\n",
       "  * lon      (lon) float32 0.25 0.75 1.25 1.75 ... 358.25 358.75 359.25 359.75\n",
       "  * lat      (lat) float32 89.75 89.25 88.75 88.25 ... -88.75 -89.25 -89.75\n",
       "Data variables:\n",
       "    tas2m    (time, lat, lon) float32 dask.array<chunksize=(365, 360, 720), meta=np.ndarray>"
      ]
     },
     "execution_count": 9,
     "metadata": {},
     "output_type": "execute_result"
    }
   ],
   "source": [
    "verif_files_tmax = [f'{verif_path}{varname}/daily/'{verif_dataset}'/orig/tmax.{year}.nc' for year in range(1999, 2016)]\n",
    "verif_files_tmin = [f'{verif_path}{varname}/daily/'{verif_dataset}'/orig/tmin.{year}.nc' for year in range(1999, 2016)]\n",
    "\n",
    "verif_ds_tmax=xr.open_mfdataset(verif_files_tmax,decode_times=True,combine='by_coords',\n",
    "                                parallel=True)  \n",
    "verif_ds_tmin=xr.open_mfdataset(verif_files_tmin,decode_times=True,combine='by_coords',\n",
    "                                parallel=True)  "
   ]
  },
  {
   "cell_type": "markdown",
   "metadata": {},
   "source": [
    "### Daily Temperature is determined from (TMAX+TMIN)/2"
   ]
  },
  {
   "cell_type": "code",
   "execution_count": null,
   "metadata": {},
   "outputs": [],
   "source": [
    "verif_ds_tmax=verif_ds_tmax.rename({'tmax':varname})\n",
    "verif_ds_tmin=verif_ds_tmin.rename({'tmin':varname})\n",
    "verif_ds=(verif_ds_tmax+verif_ds_tmin)*0.5\n",
    "\n",
    "verif_ds"
   ]
  },
  {
   "cell_type": "markdown",
   "metadata": {},
   "source": [
    "### Calculate Verification Climatology & Specify output file"
   ]
  },
  {
   "cell_type": "code",
   "execution_count": 10,
   "metadata": {},
   "outputs": [
    {
     "name": "stdout",
     "output_type": "stream",
     "text": [
      "<xarray.Dataset>\n",
      "Dimensions:    (dayofyear: 366, lat: 360, lon: 720)\n",
      "Coordinates:\n",
      "  * lon        (lon) float32 0.25 0.75 1.25 1.75 ... 358.25 358.75 359.25 359.75\n",
      "  * lat        (lat) float32 89.75 89.25 88.75 88.25 ... -88.75 -89.25 -89.75\n",
      "  * dayofyear  (dayofyear) int64 1 2 3 4 5 6 7 8 ... 360 361 362 363 364 365 366\n",
      "Data variables:\n",
      "    tas2m      (dayofyear, lat, lon) float64 dask.array<chunksize=(366, 360, 720), meta=np.ndarray>\n"
     ]
    },
    {
     "name": "stderr",
     "output_type": "stream",
     "text": [
      "/glade/u/home/kpegion/miniconda3/envs/climpred-dev/lib/python3.6/site-packages/dask/array/numpy_compat.py:40: RuntimeWarning: invalid value encountered in true_divide\n",
      "  x = np.divide(x1, x2, out)\n"
     ]
    }
   ],
   "source": [
    "cfname=climo_path+'climo_'+verif_dataset+'_'+varname+'.nc'\n",
    "verif_climo=daily_climo_verif(verif_ds[varname],varname,fname=cfname)"
   ]
  }
 ],
 "metadata": {
  "kernelspec": {
   "display_name": "Python [conda env:climpred-dev] *",
   "language": "python",
   "name": "conda-env-climpred-dev-py"
  },
  "language_info": {
   "codemirror_mode": {
    "name": "ipython",
    "version": 3
   },
   "file_extension": ".py",
   "mimetype": "text/x-python",
   "name": "python",
   "nbconvert_exporter": "python",
   "pygments_lexer": "ipython3",
   "version": "3.6.7"
  }
 },
 "nbformat": 4,
 "nbformat_minor": 4
}
