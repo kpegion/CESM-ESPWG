{
 "cells": [
  {
   "cell_type": "markdown",
   "metadata": {},
   "source": [
    "# Calculate the Climatology for the Precipitation Verification Data"
   ]
  },
  {
   "cell_type": "markdown",
   "metadata": {},
   "source": [
    "### Verification data has been downloaded from NOAA/ESRL/PSD and put in:\n",
    "/glade/scratch/kpegion/ESPWG/data/verif/\n",
    "\n",
    "### Climatology is calculated following the SubX protocol. It is output to a file:\n",
    "/glade/scratch/kpegion/ESPWG/data/verif/tas2m/daily/CPC-TEMP/climo/climo_CPC-TEMP_prsfc.nc\n",
    "\n",
    "### Function for calculating climatology is located in:\n",
    "clim_utils.py"
   ]
  },
  {
   "cell_type": "code",
   "execution_count": 19,
   "metadata": {},
   "outputs": [],
   "source": [
    "import xarray as xr\n",
    "import matplotlib.pyplot as plt\n",
    "import pandas as pd\n",
    "import numpy as np\n",
    "\n",
    "from clim_utils import daily_climo_verif"
   ]
  },
  {
   "cell_type": "code",
   "execution_count": 20,
   "metadata": {},
   "outputs": [],
   "source": [
    "import warnings\n",
    "warnings.filterwarnings(\"ignore\")"
   ]
  },
  {
   "cell_type": "code",
   "execution_count": 21,
   "metadata": {},
   "outputs": [],
   "source": [
    "base_path='/glade/scratch/kpegion/ESPWG/data/'\n",
    "varname='pr'"
   ]
  },
  {
   "cell_type": "code",
   "execution_count": 22,
   "metadata": {},
   "outputs": [
    {
     "name": "stdout",
     "output_type": "stream",
     "text": [
      "/glade/scratch/kpegion/ESPWG/data/verif/pr/daily/CPC-PRECIP/climo/climo_CPC-PRECIP_pr.nc\n"
     ]
    }
   ],
   "source": [
    "verif_path=base_path+'verif/'\n",
    "verif_dataset='CPC-PRECIP'\n",
    "\n",
    "climo_path=verif_path+varname+'/daily/'+verif_dataset+'/climo/'\n",
    "\n",
    "print(climo_path+'climo_'+verif_dataset+'_'+varname+'.nc')"
   ]
  },
  {
   "cell_type": "markdown",
   "metadata": {},
   "source": [
    "### Read In Verif Data for 1999-2015"
   ]
  },
  {
   "cell_type": "code",
   "execution_count": 12,
   "metadata": {},
   "outputs": [],
   "source": [
    "verif_files = [f'{verif_path}{varname}/daily/{verif_dataset}/orig/precip.{year}.nc' for year in range(1999, 2016)]\n",
    "\n",
    "verif_ds=xr.open_mfdataset(verif_files,decode_times=True,combine='by_coords',\n",
    "                            parallel=True)  \n"
   ]
  },
  {
   "cell_type": "markdown",
   "metadata": {},
   "source": [
    "### Daily Temperature is determined from (TMAX+TMIN)/2"
   ]
  },
  {
   "cell_type": "code",
   "execution_count": 13,
   "metadata": {},
   "outputs": [
    {
     "data": {
      "text/html": [
       "<pre>&lt;xarray.Dataset&gt;\n",
       "Dimensions:  (lat: 360, lon: 720, time: 6209)\n",
       "Coordinates:\n",
       "  * lat      (lat) float32 89.75 89.25 88.75 88.25 ... -88.75 -89.25 -89.75\n",
       "  * lon      (lon) float32 0.25 0.75 1.25 1.75 ... 358.25 358.75 359.25 359.75\n",
       "  * time     (time) datetime64[ns] 1999-01-01 1999-01-02 ... 2015-12-31\n",
       "Data variables:\n",
       "    pr       (time, lat, lon) float32 dask.array&lt;chunksize=(365, 360, 720), meta=np.ndarray&gt;\n",
       "Attributes:\n",
       "    Conventions:    CF-1.0\n",
       "    version:        V1.0\n",
       "    history:        created 9/2016 by CAS NOAA/ESRL PSD\n",
       "    title:          CPC GLOBAL PRCP V1.0\n",
       "    dataset_title:  CPC GLOBAL PRCP V1.0\n",
       "    Source:         ftp://ftp.cpc.ncep.noaa.gov/precip/CPC_UNI_PRCP/\n",
       "    References:     https://www.psl.noaa.gov/data/gridded/data.cpc.globalprec...</pre>"
      ],
      "text/plain": [
       "<xarray.Dataset>\n",
       "Dimensions:  (lat: 360, lon: 720, time: 6209)\n",
       "Coordinates:\n",
       "  * lat      (lat) float32 89.75 89.25 88.75 88.25 ... -88.75 -89.25 -89.75\n",
       "  * lon      (lon) float32 0.25 0.75 1.25 1.75 ... 358.25 358.75 359.25 359.75\n",
       "  * time     (time) datetime64[ns] 1999-01-01 1999-01-02 ... 2015-12-31\n",
       "Data variables:\n",
       "    pr       (time, lat, lon) float32 dask.array<chunksize=(365, 360, 720), meta=np.ndarray>\n",
       "Attributes:\n",
       "    Conventions:    CF-1.0\n",
       "    version:        V1.0\n",
       "    history:        created 9/2016 by CAS NOAA/ESRL PSD\n",
       "    title:          CPC GLOBAL PRCP V1.0\n",
       "    dataset_title:  CPC GLOBAL PRCP V1.0\n",
       "    Source:         ftp://ftp.cpc.ncep.noaa.gov/precip/CPC_UNI_PRCP/\n",
       "    References:     https://www.psl.noaa.gov/data/gridded/data.cpc.globalprec..."
      ]
     },
     "execution_count": 13,
     "metadata": {},
     "output_type": "execute_result"
    }
   ],
   "source": [
    "verif_ds=verif_ds.rename({'precip':varname})\n",
    "verif_ds"
   ]
  },
  {
   "cell_type": "markdown",
   "metadata": {},
   "source": [
    "### Calculate Verification Climatology & Specify output file"
   ]
  },
  {
   "cell_type": "code",
   "execution_count": 14,
   "metadata": {},
   "outputs": [],
   "source": [
    "cfname=climo_path+'climo_'+verif_dataset+'_'+varname+'.nc'\n",
    "verif_climo=daily_climo_verif(verif_ds[varname],varname,fname=cfname)"
   ]
  },
  {
   "cell_type": "code",
   "execution_count": null,
   "metadata": {},
   "outputs": [],
   "source": []
  }
 ],
 "metadata": {
  "kernelspec": {
   "display_name": "Python [conda env:climpred-dev] *",
   "language": "python",
   "name": "conda-env-climpred-dev-py"
  },
  "language_info": {
   "codemirror_mode": {
    "name": "ipython",
    "version": 3
   },
   "file_extension": ".py",
   "mimetype": "text/x-python",
   "name": "python",
   "nbconvert_exporter": "python",
   "pygments_lexer": "ipython3",
   "version": "3.6.7"
  }
 },
 "nbformat": 4,
 "nbformat_minor": 4
}
