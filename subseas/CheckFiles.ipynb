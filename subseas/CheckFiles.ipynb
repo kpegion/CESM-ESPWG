{
 "cells": [
  {
   "cell_type": "markdown",
   "metadata": {},
   "source": [
    "### Goes through all the p1 variables for WACCM data and checks whether the files have 46 times.  Prints names of files that do not"
   ]
  },
  {
   "cell_type": "code",
   "execution_count": 1,
   "metadata": {},
   "outputs": [],
   "source": [
    "import xarray as xr\n",
    "import numpy as np\n",
    "import glob"
   ]
  },
  {
   "cell_type": "code",
   "execution_count": 2,
   "metadata": {},
   "outputs": [
    {
     "name": "stdout",
     "output_type": "stream",
     "text": [
      "[1999 2000 2001 2002 2003 2004 2005 2006 2007 2008 2009 2010 2011 2012\n",
      " 2013 2014 2015 2016]\n"
     ]
    }
   ],
   "source": [
    "path='/glade/p/nsc/ncgd0042/ssfcst/70Lwaccm6/p1/'\n",
    "model='70Lwaccm6'\n",
    "varnames=['tas_2m','pr','rlut','ts','ua_200','ua_850','va_200','va_850','zg_200','zg_500']\n",
    "enss=['00','01','02','03','04'] \n",
    "mnums=['01','02','03','09','10','11','12']\n",
    "mstrs=['jan','feb','mar','oct','nov','dec']\n",
    "\n",
    "yrs_list=np.arange(1999,2017)\n",
    "print(yrs_list) "
   ]
  },
  {
   "cell_type": "code",
   "execution_count": 3,
   "metadata": {},
   "outputs": [
    {
     "name": "stdout",
     "output_type": "stream",
     "text": [
      "/glade/p/nsc/ncgd0042/ssfcst/70Lwaccm6/p1//pr/2004/01/pr_70Lwaccm6_26jan2004_00z_d01_d46_m02.nc time= 0\n",
      "/glade/p/nsc/ncgd0042/ssfcst/70Lwaccm6/p1//rlut/2004/01/rlut_70Lwaccm6_26jan2004_00z_d01_d46_m00.nc time= 34\n",
      "/glade/p/nsc/ncgd0042/ssfcst/70Lwaccm6/p1//rlut/2005/03/rlut_70Lwaccm6_07mar2005_00z_d01_d46_m00.nc time= 0\n",
      "/glade/p/nsc/ncgd0042/ssfcst/70Lwaccm6/p1//rlut/2004/01/rlut_70Lwaccm6_26jan2004_00z_d01_d46_m01.nc time= 34\n",
      "/glade/p/nsc/ncgd0042/ssfcst/70Lwaccm6/p1//rlut/2005/03/rlut_70Lwaccm6_07mar2005_00z_d01_d46_m01.nc time= 34\n",
      "/glade/p/nsc/ncgd0042/ssfcst/70Lwaccm6/p1//rlut/2005/03/rlut_70Lwaccm6_07mar2005_00z_d01_d46_m02.nc time= 34\n",
      "/glade/p/nsc/ncgd0042/ssfcst/70Lwaccm6/p1//rlut/2004/01/rlut_70Lwaccm6_26jan2004_00z_d01_d46_m04.nc time= 34\n",
      "/glade/p/nsc/ncgd0042/ssfcst/70Lwaccm6/p1//rlut/2005/03/rlut_70Lwaccm6_07mar2005_00z_d01_d46_m04.nc time= 34\n",
      "/glade/p/nsc/ncgd0042/ssfcst/70Lwaccm6/p1//ts/2005/03/ts_70Lwaccm6_07mar2005_00z_d01_d46_m03.nc time= 34\n",
      "/glade/p/nsc/ncgd0042/ssfcst/70Lwaccm6/p1//zg_200/2004/01/zg_200_70Lwaccm6_26jan2004_00z_d01_d46_m03.nc time= 34\n"
     ]
    }
   ],
   "source": [
    "for varname in varnames:\n",
    "\n",
    "    # Loop over ensembles\n",
    "    for iens in enss:\n",
    "    \n",
    "        # Get list of files for all ICs for this ensemble member\n",
    "        for mnum,mstr in zip(mnums,mstrs):\n",
    "        \n",
    "            # Get all the filenames for this month for all years\n",
    "            fnames = [f'{path}/{varname}/{year}/{mnum}/{varname}_{model}_*{mstr}{year}_00z_d01_d46_m{iens}.nc' for year in yrs_list]       \n",
    "\n",
    "            for files in fnames:\n",
    "                \n",
    "                f2=glob.glob(files)\n",
    "                for f in f2:\n",
    "\n",
    "                    # Read in data file by file\n",
    "                    fcst_ds_tmp=xr.open_dataset(f) \n",
    "                \n",
    "                    # If times are less than 46,then print the filename\n",
    "                    if (len(fcst_ds_tmp['time'])<46):\n",
    "                        print(f,'time=',len(fcst_ds_tmp['time']))"
   ]
  },
  {
   "cell_type": "code",
   "execution_count": null,
   "metadata": {},
   "outputs": [],
   "source": []
  },
  {
   "cell_type": "code",
   "execution_count": null,
   "metadata": {},
   "outputs": [],
   "source": []
  }
 ],
 "metadata": {
  "kernelspec": {
   "display_name": "Python [conda env:climpred-dev] *",
   "language": "python",
   "name": "conda-env-climpred-dev-py"
  },
  "language_info": {
   "codemirror_mode": {
    "name": "ipython",
    "version": 3
   },
   "file_extension": ".py",
   "mimetype": "text/x-python",
   "name": "python",
   "nbconvert_exporter": "python",
   "pygments_lexer": "ipython3",
   "version": "3.6.7"
  }
 },
 "nbformat": 4,
 "nbformat_minor": 4
}
