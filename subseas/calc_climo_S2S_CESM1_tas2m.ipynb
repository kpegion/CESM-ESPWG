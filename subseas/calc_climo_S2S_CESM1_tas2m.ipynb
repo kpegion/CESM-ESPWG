{
 "cells": [
  {
   "cell_type": "markdown",
   "metadata": {},
   "source": [
    "# Calculate Climatology for CESM1 S2S Runs"
   ]
  },
  {
   "cell_type": "markdown",
   "metadata": {},
   "source": [
    "### CESM1 data is located in:\n",
    "\n",
    "\n",
    "### Climatology is calculated following the SubX protocol. It is output to a file:\n",
    "\n",
    "\n",
    "### Function for calculating climatology is located in:\n",
    "`clim_utils.py`"
   ]
  },
  {
   "cell_type": "code",
   "execution_count": 1,
   "metadata": {},
   "outputs": [],
   "source": [
    "import xarray as xr\n",
    "import matplotlib.pyplot as plt\n",
    "import pandas as pd\n",
    "import numpy as np\n",
    "import glob\n",
    "\n",
    "from clim_utils import daily_climo_subx"
   ]
  },
  {
   "cell_type": "markdown",
   "metadata": {},
   "source": [
    "### Pre-processing function called by `open_mfdataset` to handle files with missing data or incorrect times"
   ]
  },
  {
   "cell_type": "code",
   "execution_count": 3,
   "metadata": {},
   "outputs": [],
   "source": [
    "# File Path information\n",
    "#model='70Lwaccm6'\n",
    "#path='/glade/p/nsc/ncgd0042/ssfcst/'+model+'70Lwaccm6'/p1/'\n",
    "#dstr='00z_d01_d45'\n",
    "\n",
    "model='CESM1_30LCAM5'\n",
    "path='/glade/scratch/jrichter/CPC_DATA/'+model\n",
    "dstr='00z_d01_d45'\n",
    "\n",
    "# Variable to be processed\n",
    "varname='tas_2m'\n",
    "\n",
    "# Years to be gotton\n",
    "sdate='19990106' # This was set by hand as the first init date for the first year\n",
    "edate='20151231'\n",
    "yrs_list=np.arange(1999,2016)\n",
    "\n",
    "# Initialization months\n",
    "mnums=['01','02','12']\n",
    "mstrs=['jan','feb','dec']\n",
    "\n",
    "\n",
    "# Ensemble members\n",
    "enss=['00','01','02','03','04'] "
   ]
  },
  {
   "cell_type": "markdown",
   "metadata": {},
   "source": [
    "### Read in each ensemble member for hindcasts for 2m Temperature\n",
    "* `init` is concat dimension for `open_mfdataset`\n",
    "* Each month is read in individually, then all are combined by the `init` dimension\n",
    "* `ens` for each `init` is read in, then the data are combined by the `ens` dimension"
   ]
  },
  {
   "cell_type": "code",
   "execution_count": 4,
   "metadata": {},
   "outputs": [
    {
     "name": "stdout",
     "output_type": "stream",
     "text": [
      "['/glade/scratch/jrichter/CPC_DATA/CESM1_30LCAM5/pr/1999/01/pr_CESM1_30LCAM5_*jan1999_00z_d01_d45_m00.nc', '/glade/scratch/jrichter/CPC_DATA/CESM1_30LCAM5/pr/2000/01/pr_CESM1_30LCAM5_*jan2000_00z_d01_d45_m00.nc', '/glade/scratch/jrichter/CPC_DATA/CESM1_30LCAM5/pr/2001/01/pr_CESM1_30LCAM5_*jan2001_00z_d01_d45_m00.nc', '/glade/scratch/jrichter/CPC_DATA/CESM1_30LCAM5/pr/2002/01/pr_CESM1_30LCAM5_*jan2002_00z_d01_d45_m00.nc', '/glade/scratch/jrichter/CPC_DATA/CESM1_30LCAM5/pr/2003/01/pr_CESM1_30LCAM5_*jan2003_00z_d01_d45_m00.nc', '/glade/scratch/jrichter/CPC_DATA/CESM1_30LCAM5/pr/2004/01/pr_CESM1_30LCAM5_*jan2004_00z_d01_d45_m00.nc', '/glade/scratch/jrichter/CPC_DATA/CESM1_30LCAM5/pr/2005/01/pr_CESM1_30LCAM5_*jan2005_00z_d01_d45_m00.nc', '/glade/scratch/jrichter/CPC_DATA/CESM1_30LCAM5/pr/2006/01/pr_CESM1_30LCAM5_*jan2006_00z_d01_d45_m00.nc', '/glade/scratch/jrichter/CPC_DATA/CESM1_30LCAM5/pr/2007/01/pr_CESM1_30LCAM5_*jan2007_00z_d01_d45_m00.nc', '/glade/scratch/jrichter/CPC_DATA/CESM1_30LCAM5/pr/2008/01/pr_CESM1_30LCAM5_*jan2008_00z_d01_d45_m00.nc', '/glade/scratch/jrichter/CPC_DATA/CESM1_30LCAM5/pr/2009/01/pr_CESM1_30LCAM5_*jan2009_00z_d01_d45_m00.nc', '/glade/scratch/jrichter/CPC_DATA/CESM1_30LCAM5/pr/2010/01/pr_CESM1_30LCAM5_*jan2010_00z_d01_d45_m00.nc', '/glade/scratch/jrichter/CPC_DATA/CESM1_30LCAM5/pr/2011/01/pr_CESM1_30LCAM5_*jan2011_00z_d01_d45_m00.nc', '/glade/scratch/jrichter/CPC_DATA/CESM1_30LCAM5/pr/2012/01/pr_CESM1_30LCAM5_*jan2012_00z_d01_d45_m00.nc', '/glade/scratch/jrichter/CPC_DATA/CESM1_30LCAM5/pr/2013/01/pr_CESM1_30LCAM5_*jan2013_00z_d01_d45_m00.nc', '/glade/scratch/jrichter/CPC_DATA/CESM1_30LCAM5/pr/2014/01/pr_CESM1_30LCAM5_*jan2014_00z_d01_d45_m00.nc', '/glade/scratch/jrichter/CPC_DATA/CESM1_30LCAM5/pr/2015/01/pr_CESM1_30LCAM5_*jan2015_00z_d01_d45_m00.nc']\n"
     ]
    },
    {
     "ename": "OSError",
     "evalue": "no files to open",
     "output_type": "error",
     "traceback": [
      "\u001b[0;31m---------------------------------------------------------------------------\u001b[0m",
      "\u001b[0;31mOSError\u001b[0m                                   Traceback (most recent call last)",
      "\u001b[0;32m<ipython-input-4-f485c8e48f42>\u001b[0m in \u001b[0;36m<module>\u001b[0;34m\u001b[0m\n\u001b[1;32m     24\u001b[0m         \u001b[0;31m# Read in data concatentating over the init dimension\u001b[0m\u001b[0;34m\u001b[0m\u001b[0;34m\u001b[0m\u001b[0;34m\u001b[0m\u001b[0m\n\u001b[1;32m     25\u001b[0m         fcst_ds_tmp=xr.open_mfdataset(files1,parallel=True,combine='nested',\n\u001b[0;32m---> 26\u001b[0;31m                                       decode_times=False,concat_dim='init')\n\u001b[0m\u001b[1;32m     27\u001b[0m \u001b[0;34m\u001b[0m\u001b[0m\n\u001b[1;32m     28\u001b[0m         \u001b[0;31m# Create dates for the init dimension and assign them\u001b[0m\u001b[0;34m\u001b[0m\u001b[0;34m\u001b[0m\u001b[0;34m\u001b[0m\u001b[0m\n",
      "\u001b[0;32m~/miniconda3/envs/climpred-dev/lib/python3.6/site-packages/xarray/backends/api.py\u001b[0m in \u001b[0;36mopen_mfdataset\u001b[0;34m(paths, chunks, concat_dim, compat, preprocess, engine, lock, data_vars, coords, combine, autoclose, parallel, join, **kwargs)\u001b[0m\n\u001b[1;32m    868\u001b[0m \u001b[0;34m\u001b[0m\u001b[0m\n\u001b[1;32m    869\u001b[0m     \u001b[0;32mif\u001b[0m \u001b[0;32mnot\u001b[0m \u001b[0mpaths\u001b[0m\u001b[0;34m:\u001b[0m\u001b[0;34m\u001b[0m\u001b[0;34m\u001b[0m\u001b[0m\n\u001b[0;32m--> 870\u001b[0;31m         \u001b[0;32mraise\u001b[0m \u001b[0mOSError\u001b[0m\u001b[0;34m(\u001b[0m\u001b[0;34m\"no files to open\"\u001b[0m\u001b[0;34m)\u001b[0m\u001b[0;34m\u001b[0m\u001b[0;34m\u001b[0m\u001b[0m\n\u001b[0m\u001b[1;32m    871\u001b[0m \u001b[0;34m\u001b[0m\u001b[0m\n\u001b[1;32m    872\u001b[0m     \u001b[0;31m# If combine='by_coords' then this is unnecessary, but quick.\u001b[0m\u001b[0;34m\u001b[0m\u001b[0;34m\u001b[0m\u001b[0;34m\u001b[0m\u001b[0m\n",
      "\u001b[0;31mOSError\u001b[0m: no files to open"
     ]
    }
   ],
   "source": [
    "# Create empty list to append data for each ensemble member\n",
    "fcst_ds_ens=[]\n",
    "\n",
    "# Loop over ensembles\n",
    "for iens in enss:\n",
    "\n",
    "    # Create empty list to append data for each month\n",
    "    fcst_ds_months=[]\n",
    "    \n",
    "    # Get list of files and read in data for each month for this ensemble member\n",
    "    for mnum,mstr in zip(mnums,mstrs):\n",
    "        \n",
    "        # Get all the filenames for this month for all years\n",
    "        fnames = [f'{path}/{varname}/{year}/{mnum}/{varname}_{model}_*{mstr}{year}_{dstr}_m{iens}.nc' for year in yrs_list]       \n",
    "        print(fnames)\n",
    "        \n",
    "        # Create list of all filenames for this ensemble member, month, and all years\n",
    "        files1=[]\n",
    "        for files in fnames:\n",
    "            f2=glob.glob(files)\n",
    "            for f in f2:\n",
    "                files1.append(f)\n",
    "       \n",
    "        # Read in data concatentating over the init dimension\n",
    "        fcst_ds_tmp=xr.open_mfdataset(files1,parallel=True,combine='nested',\n",
    "                                      decode_times=False,concat_dim='init')\n",
    "\n",
    "        # Create dates for the init dimension and assign them\n",
    "        init_dates_all=pd.date_range(start=sdate,end=edate,freq='7D')\n",
    "        djf_dates=init_dates_all[(init_dates_all.month==int(mnum))]\n",
    "        fcst_ds_tmp['init']=djf_dates\n",
    "\n",
    "        # Append the latest month to the list\n",
    "        fcst_ds_months.append(fcst_ds_tmp)\n",
    "        \n",
    "    \n",
    "    # Combine the months into the init dimension\n",
    "    fcst_ds_months = xr.combine_nested(fcst_ds_months, concat_dim=['init'])\n",
    "    \n",
    "    # Append this ensenble member\n",
    "    fcst_ds_ens.append(fcst_ds_months)\n",
    "    \n",
    "    \n",
    "fcst_ds_ens   "
   ]
  },
  {
   "cell_type": "code",
   "execution_count": null,
   "metadata": {},
   "outputs": [],
   "source": [
    "# Combine data over ensemble dimension\n",
    "fcst_ds_ens = xr.combine_nested(fcst_ds_ens, concat_dim=['ens'])\n",
    "fcst_ds_ens['ens']=np.arange(0,len(enss))\n",
    "\n",
    "fcst_ds_ens"
   ]
  },
  {
   "cell_type": "markdown",
   "metadata": {},
   "source": [
    "### Calculate the Ensemble Mean"
   ]
  },
  {
   "cell_type": "code",
   "execution_count": null,
   "metadata": {},
   "outputs": [],
   "source": [
    "fcst_ds=fcst_ds_ens.mean(dim='ens')"
   ]
  },
  {
   "cell_type": "code",
   "execution_count": null,
   "metadata": {},
   "outputs": [],
   "source": [
    "fcst_ds"
   ]
  },
  {
   "cell_type": "markdown",
   "metadata": {},
   "source": [
    "### Determine leads and set them as integers for the lead dimension"
   ]
  },
  {
   "cell_type": "code",
   "execution_count": null,
   "metadata": {},
   "outputs": [],
   "source": [
    "nt=fcst_ds['TIME'].size\n",
    "leads=np.arange(0,nt)\n",
    "fcst_ds=fcst_ds.rename({'TIME':'lead','LAT':'lat','LON':'lon','TAS':varname})\n",
    "fcst_ds['lead']=leads"
   ]
  },
  {
   "cell_type": "markdown",
   "metadata": {},
   "source": [
    "### Calculate the climatology and save to file"
   ]
  },
  {
   "cell_type": "code",
   "execution_count": null,
   "metadata": {},
   "outputs": [],
   "source": [
    "climo_out_path='/glade/scratch/kpegion/ESPWG/data/'+model+'/hcst/climo/'\n",
    "cfname=climo_out_path+'climo_'+varname+'.nc'\n",
    "print(cfname)\n",
    "climo=daily_climo_subx(fcst_ds[varname],varname,fname=cfname)"
   ]
  },
  {
   "cell_type": "code",
   "execution_count": null,
   "metadata": {},
   "outputs": [],
   "source": []
  },
  {
   "cell_type": "code",
   "execution_count": null,
   "metadata": {},
   "outputs": [],
   "source": []
  }
 ],
 "metadata": {
  "kernelspec": {
   "display_name": "Python [conda env:climpred-dev] *",
   "language": "python",
   "name": "conda-env-climpred-dev-py"
  },
  "language_info": {
   "codemirror_mode": {
    "name": "ipython",
    "version": 3
   },
   "file_extension": ".py",
   "mimetype": "text/x-python",
   "name": "python",
   "nbconvert_exporter": "python",
   "pygments_lexer": "ipython3",
   "version": "3.6.7"
  }
 },
 "nbformat": 4,
 "nbformat_minor": 4
}
